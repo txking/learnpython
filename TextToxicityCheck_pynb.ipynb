{
  "cells": [
    {
      "cell_type": "markdown",
      "metadata": {
        "id": "view-in-github",
        "colab_type": "text"
      },
      "source": [
        "<a href=\"https://colab.research.google.com/github/txking/learnpython/blob/master/TextToxicityCheck_pynb.ipynb\" target=\"_parent\"><img src=\"https://colab.research.google.com/assets/colab-badge.svg\" alt=\"Open In Colab\"/></a>"
      ]
    },
    {
      "cell_type": "code",
      "execution_count": null,
      "metadata": {
        "id": "UuxG3dGCr3w9"
      },
      "outputs": [],
      "source": [
        "# Install\n",
        "!pip install gradio"
      ]
    },
    {
      "cell_type": "code",
      "execution_count": null,
      "metadata": {
        "id": "9QLLSKB2sX4e"
      },
      "outputs": [],
      "source": [
        "# @title Simple HTML App for Toxicity calculation\n",
        "# The code calls a pre-defined callApi function that uses \"duchaba/Friendly_Text_Moderation\"\"\n",
        "# main code for App\n",
        "import json\n",
        "import gradio as gr\n",
        "from gradio_client import Client\n",
        "from ipywidgets import Button, Layout, HTML\n",
        "from IPython.display import display\n",
        "\n",
        "def callApi(amsg):\n",
        "\n",
        "  # access text toxicity check from https://huggingface.co/spaces/duchaba/Friendly_Text_Moderation\n",
        "  client = Client(\"duchaba/Friendly_Text_Moderation\")\n",
        "\n",
        "  print(\"wIll call predict method\")\n",
        "  result = client.predict(\n",
        "  msg=amsg,\n",
        "\tsafer=0.02,\n",
        "\tapi_name=\"/fetch_toxicity_level\"\n",
        "  )\n",
        "\n",
        "  print(result)\n",
        "  plot_info = result[0]\n",
        "  json_string = result[1]\n",
        "\n",
        "  # json_string = json_string.strip().strip('\\n').strip(\"\\n\")\n",
        "  toxicity_scores = json.loads(json_string)\n",
        "\n",
        "  # print(toxicity_scores[\"violence\"])  # → 1.973e-05\n",
        "  # print(toxicity_scores[\"is_flagged\"])  # → False\n",
        "\n",
        "  result = \"\"\n",
        "\n",
        "  # Loop and print each key-value pair\n",
        "  for key, value in toxicity_scores.items():\n",
        "      result = result + str({key}) + \":\" +  str({value}) + '\\n'\n",
        "\n",
        "  return result\n",
        "\n",
        "\n",
        "\n",
        "# Input_text_string = \"\" # @param {\"type\":\"string\",\"placeholder\":\"Enter your text here\"}\n",
        "\n",
        "# Create a button\n",
        "button = Button(description=\"Click Me!\",\n",
        "                layout=Layout(width='auto', height='auto'),\n",
        "                button_style='info') # 'primary', 'success', 'info', 'warning', 'danger'\n",
        "\n",
        "# Define a function to be executed when the button is clicked\n",
        "def on_button_click(b):\n",
        "    print(\"Button clicked!\")\n",
        "    # You can add more complex logic here, like calling other functions\n",
        "    # or updating variables in your Colab environment.\n",
        "\n",
        "# Attach the function to the button's click event\n",
        "button.on_click(on_button_click)\n",
        "\n",
        "# Display the button\n",
        "# display(button)\n",
        "\n",
        "\n",
        "# Step 4: Build the UI\n",
        "with gr.Blocks() as demo:\n",
        "    gr.Markdown(\"## 👋 Enter the text to review\")\n",
        "    name_input = gr.Textbox(label=\"Text\")\n",
        "    greet_btn = gr.Button(\"Run Toxicity Check\")\n",
        "    output = gr.Textbox(label=\"Greeting\")\n",
        "    print(\"Will call API\")\n",
        "    greet_btn.click(fn=callApi, inputs=[name_input], outputs=output)\n",
        "    print (\"API call done!!\")\n",
        "\n",
        "# Step 5: Launch the app\n",
        "demo.launch(share=True, debug=True)\n"
      ]
    },
    {
      "cell_type": "code",
      "source": [],
      "metadata": {
        "id": "GSE7gV48_I0z"
      },
      "execution_count": null,
      "outputs": []
    }
  ],
  "metadata": {
    "colab": {
      "provenance": [],
      "authorship_tag": "ABX9TyP8DGJycIA04neklgzzbB5P",
      "include_colab_link": true
    },
    "kernelspec": {
      "display_name": "Python 3",
      "name": "python3"
    },
    "language_info": {
      "name": "python"
    }
  },
  "nbformat": 4,
  "nbformat_minor": 0
}